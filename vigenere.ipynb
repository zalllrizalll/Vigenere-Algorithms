{
 "cells": [
  {
   "cell_type": "code",
   "execution_count": 28,
   "metadata": {},
   "outputs": [],
   "source": [
    "alphabet = \"abcdefghijklmnopqrstuvwxyz\"\n",
    "\n",
    "array_alphabet = []\n",
    "\n",
    "for i in range (len(alphabet)):\n",
    "    array_alphabet.append(alphabet[i])"
   ]
  },
  {
   "cell_type": "code",
   "execution_count": 29,
   "metadata": {},
   "outputs": [
    {
     "data": {
      "text/plain": [
       "'thisplaintext'"
      ]
     },
     "execution_count": 29,
     "metadata": {},
     "output_type": "execute_result"
    }
   ],
   "source": [
    "plainText = input(\"Masukkan plaintext : \")\n",
    "plainText = plainText.lower()\n",
    "plainText = plainText.replace(\" \", \"\")\n",
    "plainText"
   ]
  },
  {
   "cell_type": "code",
   "execution_count": 30,
   "metadata": {},
   "outputs": [
    {
     "data": {
      "text/plain": [
       "'sonycakepbanget'"
      ]
     },
     "execution_count": 30,
     "metadata": {},
     "output_type": "execute_result"
    }
   ],
   "source": [
    "key = input(\"Masukkan key : \")\n",
    "key = key.lower()\n",
    "key = key.replace(\" \", \"\")\n",
    "key"
   ]
  },
  {
   "cell_type": "code",
   "execution_count": 31,
   "metadata": {},
   "outputs": [
    {
     "data": {
      "text/plain": [
       "'sonycakepbang'"
      ]
     },
     "execution_count": 31,
     "metadata": {},
     "output_type": "execute_result"
    }
   ],
   "source": [
    "generated_key = \"\"\n",
    "\n",
    "for i in range(len(plainText)):\n",
    "    generated_key += key[i % len(key)]\n",
    "generated_key\n"
   ]
  },
  {
   "cell_type": "code",
   "execution_count": 32,
   "metadata": {},
   "outputs": [
    {
     "data": {
      "text/plain": [
       "[19, 7, 8, 18, 15, 11, 0, 8, 13, 19, 4, 23, 19]"
      ]
     },
     "execution_count": 32,
     "metadata": {},
     "output_type": "execute_result"
    }
   ],
   "source": [
    "pt = []\n",
    "\n",
    "for i in range(len(plainText)):\n",
    "    pt.append(array_alphabet.index(plainText[i]))\n",
    "pt\n"
   ]
  },
  {
   "cell_type": "code",
   "execution_count": 33,
   "metadata": {},
   "outputs": [
    {
     "data": {
      "text/plain": [
       "[18, 14, 13, 24, 2, 0, 10, 4, 15, 1, 0, 13, 6]"
      ]
     },
     "execution_count": 33,
     "metadata": {},
     "output_type": "execute_result"
    }
   ],
   "source": [
    "ky = []\n",
    "\n",
    "for i in range(len(generated_key)):\n",
    "    ky.append(array_alphabet.index(generated_key[i]))\n",
    "ky\n"
   ]
  },
  {
   "cell_type": "code",
   "execution_count": 34,
   "metadata": {},
   "outputs": [
    {
     "data": {
      "text/plain": [
       "[11, 21, 21, 16, 17, 11, 10, 12, 2, 20, 4, 10, 25]"
      ]
     },
     "execution_count": 34,
     "metadata": {},
     "output_type": "execute_result"
    }
   ],
   "source": [
    "cipher_index = []\n",
    "\n",
    "for i in range(len(plainText)):\n",
    "    cipher_index.append((pt[i] + ky[i]) % 26)\n",
    "cipher_index"
   ]
  },
  {
   "cell_type": "code",
   "execution_count": 35,
   "metadata": {},
   "outputs": [
    {
     "data": {
      "text/plain": [
       "['l', 'v', 'v', 'q', 'r', 'l', 'k', 'm', 'c', 'u', 'e', 'k', 'z']"
      ]
     },
     "execution_count": 35,
     "metadata": {},
     "output_type": "execute_result"
    }
   ],
   "source": [
    "cipherText = []\n",
    "for i in range(len(plainText)):\n",
    "    cipherText.append(array_alphabet[cipher_index[i]])\n",
    "cipherText"
   ]
  },
  {
   "cell_type": "code",
   "execution_count": 36,
   "metadata": {},
   "outputs": [
    {
     "data": {
      "text/plain": [
       "[19, 7, 8, 18, 15, 11, 0, 8, 13, 19, 4, 23, 19]"
      ]
     },
     "execution_count": 36,
     "metadata": {},
     "output_type": "execute_result"
    }
   ],
   "source": [
    "decrypt_index = []\n",
    "\n",
    "for i in range(len(cipher_index)):\n",
    "    decrypt_index.append((cipher_index[i] - ky[i]) % 26)\n",
    "decrypt_index"
   ]
  },
  {
   "cell_type": "code",
   "execution_count": 37,
   "metadata": {},
   "outputs": [
    {
     "data": {
      "text/plain": [
       "['t', 'h', 'i', 's', 'p', 'l', 'a', 'i', 'n', 't', 'e', 'x', 't']"
      ]
     },
     "execution_count": 37,
     "metadata": {},
     "output_type": "execute_result"
    }
   ],
   "source": [
    "decryptText = []\n",
    "\n",
    "for i in range(len(decrypt_index)):\n",
    "    decryptText.append(array_alphabet[decrypt_index[i]])\n",
    "decryptText"
   ]
  },
  {
   "cell_type": "code",
   "execution_count": 38,
   "metadata": {},
   "outputs": [
    {
     "data": {
      "text/plain": [
       "'thisplaintext'"
      ]
     },
     "execution_count": 38,
     "metadata": {},
     "output_type": "execute_result"
    }
   ],
   "source": [
    "result = \"\".join(decryptText)\n",
    "result"
   ]
  }
 ],
 "metadata": {
  "kernelspec": {
   "display_name": "Python 3",
   "language": "python",
   "name": "python3"
  },
  "language_info": {
   "codemirror_mode": {
    "name": "ipython",
    "version": 3
   },
   "file_extension": ".py",
   "mimetype": "text/x-python",
   "name": "python",
   "nbconvert_exporter": "python",
   "pygments_lexer": "ipython3",
   "version": "3.11.5"
  },
  "orig_nbformat": 4
 },
 "nbformat": 4,
 "nbformat_minor": 2
}
