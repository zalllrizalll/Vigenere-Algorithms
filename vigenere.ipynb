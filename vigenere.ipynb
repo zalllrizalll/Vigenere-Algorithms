{
 "cells": [
  {
   "cell_type": "markdown",
   "metadata": {},
   "source": [
    "**ALGORITMA VIGENERE**"
   ]
  },
  {
   "cell_type": "code",
   "execution_count": 13,
   "metadata": {},
   "outputs": [],
   "source": [
    "alphabet = \"abcdefghijklmnopqrstuvwxyz\"\n",
    "\n",
    "array_alphabet = []\n",
    "\n",
    "for i in range (len(alphabet)):\n",
    "    array_alphabet.append(alphabet[i])"
   ]
  },
  {
   "cell_type": "code",
   "execution_count": 14,
   "metadata": {},
   "outputs": [
    {
     "data": {
      "text/plain": [
       "'thisplaintext'"
      ]
     },
     "execution_count": 14,
     "metadata": {},
     "output_type": "execute_result"
    }
   ],
   "source": [
    "plainText = input(\"Masukkan PlainText : \")\n",
    "plainText = plainText.lower()\n",
    "plainText = plainText.replace(\" \", \"\")\n",
    "plainText"
   ]
  },
  {
   "cell_type": "code",
   "execution_count": 15,
   "metadata": {},
   "outputs": [
    {
     "data": {
      "text/plain": [
       "'sonysonysonys'"
      ]
     },
     "execution_count": 15,
     "metadata": {},
     "output_type": "execute_result"
    }
   ],
   "source": [
    "key = input(\"Masukkan Key : \")\n",
    "key = key.lower()\n",
    "key = key.replace(\" \", \"\")\n",
    "key"
   ]
  },
  {
   "cell_type": "code",
   "execution_count": 16,
   "metadata": {},
   "outputs": [],
   "source": [
    "# VALIDASI INPUT USER\n",
    "if not plainText:\n",
    "    print(\"PlainText Kosong !\")\n",
    "elif not key:\n",
    "    print(\"Key Kosong !\")\n",
    "else:\n",
    "    generated_key = \"\"\n",
    "\n",
    "    for i in range(len(plainText)):\n",
    "        generated_key += key[i % len(key)]\n",
    "    generated_key\n"
   ]
  },
  {
   "cell_type": "code",
   "execution_count": 17,
   "metadata": {},
   "outputs": [
    {
     "data": {
      "text/plain": [
       "[19, 7, 8, 18, 15, 11, 0, 8, 13, 19, 4, 23, 19]"
      ]
     },
     "execution_count": 17,
     "metadata": {},
     "output_type": "execute_result"
    }
   ],
   "source": [
    "pt = []\n",
    "\n",
    "for i in range(len(plainText)):\n",
    "    pt.append(array_alphabet.index(plainText[i]))\n",
    "pt\n"
   ]
  },
  {
   "cell_type": "code",
   "execution_count": 18,
   "metadata": {},
   "outputs": [
    {
     "data": {
      "text/plain": [
       "[18, 14, 13, 24, 18, 14, 13, 24, 18, 14, 13, 24, 18]"
      ]
     },
     "execution_count": 18,
     "metadata": {},
     "output_type": "execute_result"
    }
   ],
   "source": [
    "ky = []\n",
    "\n",
    "for i in range(len(generated_key)):\n",
    "    ky.append(array_alphabet.index(generated_key[i]))\n",
    "ky\n"
   ]
  },
  {
   "cell_type": "markdown",
   "metadata": {},
   "source": [
    "**ENCRYPT TEXT**"
   ]
  },
  {
   "cell_type": "code",
   "execution_count": 19,
   "metadata": {},
   "outputs": [
    {
     "data": {
      "text/plain": [
       "[11, 21, 21, 16, 7, 25, 13, 6, 5, 7, 17, 21, 11]"
      ]
     },
     "execution_count": 19,
     "metadata": {},
     "output_type": "execute_result"
    }
   ],
   "source": [
    "cipher_index = []\n",
    "\n",
    "for i in range(len(plainText)):\n",
    "    cipher_index.append((pt[i] + ky[i]) % 26)\n",
    "cipher_index"
   ]
  },
  {
   "cell_type": "code",
   "execution_count": 20,
   "metadata": {},
   "outputs": [
    {
     "data": {
      "text/plain": [
       "['l', 'v', 'v', 'q', 'h', 'z', 'n', 'g', 'f', 'h', 'r', 'v', 'l']"
      ]
     },
     "execution_count": 20,
     "metadata": {},
     "output_type": "execute_result"
    }
   ],
   "source": [
    "cipherText = []\n",
    "for i in range(len(plainText)):\n",
    "    cipherText.append(array_alphabet[cipher_index[i]])\n",
    "cipherText"
   ]
  },
  {
   "cell_type": "code",
   "execution_count": 25,
   "metadata": {},
   "outputs": [
    {
     "data": {
      "text/plain": [
       "'LVVQHZNGFHRVL'"
      ]
     },
     "execution_count": 25,
     "metadata": {},
     "output_type": "execute_result"
    }
   ],
   "source": [
    "cipherText = \"\".join(cipherText).upper()\n",
    "cipherText"
   ]
  },
  {
   "cell_type": "markdown",
   "metadata": {},
   "source": [
    "**DECRYPT TEXT**"
   ]
  },
  {
   "cell_type": "code",
   "execution_count": 21,
   "metadata": {},
   "outputs": [
    {
     "data": {
      "text/plain": [
       "[19, 7, 8, 18, 15, 11, 0, 8, 13, 19, 4, 23, 19]"
      ]
     },
     "execution_count": 21,
     "metadata": {},
     "output_type": "execute_result"
    }
   ],
   "source": [
    "decrypt_index = []\n",
    "\n",
    "for i in range(len(cipher_index)):\n",
    "    decrypt_index.append((cipher_index[i] - ky[i]) % 26)\n",
    "decrypt_index"
   ]
  },
  {
   "cell_type": "code",
   "execution_count": 22,
   "metadata": {},
   "outputs": [
    {
     "data": {
      "text/plain": [
       "['t', 'h', 'i', 's', 'p', 'l', 'a', 'i', 'n', 't', 'e', 'x', 't']"
      ]
     },
     "execution_count": 22,
     "metadata": {},
     "output_type": "execute_result"
    }
   ],
   "source": [
    "decryptText = []\n",
    "\n",
    "for i in range(len(decrypt_index)):\n",
    "    decryptText.append(array_alphabet[decrypt_index[i]])\n",
    "decryptText"
   ]
  },
  {
   "cell_type": "code",
   "execution_count": 26,
   "metadata": {},
   "outputs": [
    {
     "data": {
      "text/plain": [
       "'THISPLAINTEXT'"
      ]
     },
     "execution_count": 26,
     "metadata": {},
     "output_type": "execute_result"
    }
   ],
   "source": [
    "result = \"\".join(decryptText).upper()\n",
    "result"
   ]
  }
 ],
 "metadata": {
  "kernelspec": {
   "display_name": "Python 3",
   "language": "python",
   "name": "python3"
  },
  "language_info": {
   "codemirror_mode": {
    "name": "ipython",
    "version": 3
   },
   "file_extension": ".py",
   "mimetype": "text/x-python",
   "name": "python",
   "nbconvert_exporter": "python",
   "pygments_lexer": "ipython3",
   "version": "3.11.6"
  },
  "orig_nbformat": 4
 },
 "nbformat": 4,
 "nbformat_minor": 2
}
