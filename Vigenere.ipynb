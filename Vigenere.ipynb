{
  "cells": [
    {
      "cell_type": "markdown",
      "metadata": {
        "id": "view-in-github",
        "colab_type": "text"
      },
      "source": [
        "<a href=\"https://colab.research.google.com/github/zalllrizalll/Algoritma-Vigenere/blob/main/Vigenere.ipynb\" target=\"_parent\"><img src=\"https://colab.research.google.com/assets/colab-badge.svg\" alt=\"Open In Colab\"/></a>"
      ]
    },
    {
      "cell_type": "markdown",
      "metadata": {
        "id": "WfPWFtIGok-x"
      },
      "source": [
        "**ALGORITMA VIGENERE**"
      ]
    },
    {
      "cell_type": "code",
      "execution_count": 1,
      "metadata": {
        "id": "UyB1romyok-2"
      },
      "outputs": [],
      "source": [
        "alphabet = \"abcdefghijklmnopqrstuvwxyz\" # Huruf-huruf alfabet dari \"a\" sampai \"z\".\n",
        "\n",
        "array_alphabet = [] # Array kosong dijadikan sebagai wadah untuk menampung data tiap iterasi\n",
        "\n",
        "for i in range (len(alphabet)): # Menggunakan loop for untuk mengiterasi melalui setiap karakter dalam string alphabet.\n",
        "    array_alphabet.append(alphabet[i]) # Memasukkan setiap karakter dari alphabet ke dalam list array_alphabet. Pada setiap iterasi, karakter tersebut ditambahkan ke list."
      ]
    },
    {
      "cell_type": "markdown",
      "source": [
        "Pada kode diatas membuat list baru yang disebut array_alphabet, yang berisi setiap huruf dari string alfabet dalam urutan yang sama seperti urutan aslinya, disini menggunakan loop untuk mengekstrak dan menambahkan setiap huruf ke dalam list array_alphabet."
      ],
      "metadata": {
        "id": "KGxfkKbOVwgE"
      }
    },
    {
      "cell_type": "code",
      "execution_count": 2,
      "metadata": {
        "id": "14354Msuok-4",
        "outputId": "475197b0-86e1-4a2f-8b36-ab25b244cf05",
        "colab": {
          "base_uri": "https://localhost:8080/",
          "height": 52
        }
      },
      "outputs": [
        {
          "name": "stdout",
          "output_type": "stream",
          "text": [
            "Masukkan PlainText : THIS PLAINTEXT\n"
          ]
        },
        {
          "output_type": "execute_result",
          "data": {
            "text/plain": [
              "'thisplaintext'"
            ],
            "application/vnd.google.colaboratory.intrinsic+json": {
              "type": "string"
            }
          },
          "metadata": {},
          "execution_count": 2
        }
      ],
      "source": [
        "plainText = input(\"Masukkan PlainText : \") # Input plaintext\n",
        "plainText = plainText.lower() # Ubah plaintext menjadi huruf kecil\n",
        "plainText = plainText.replace(\" \", \"\") # Menghapus spasi pada plainteks\n",
        "plainText # Menampilkan plaintext inputan user"
      ]
    },
    {
      "cell_type": "markdown",
      "source": [
        "Pada kode diatas pengguna diminta untuk menginput teks (PlainText). Setelah itu, teks akan diubah menjadi huruf kecil dan dilakukan penghapusan spasi. Hasilnya adalah teks yang telah dinormalisasi."
      ],
      "metadata": {
        "id": "Js9_bexvV4iP"
      }
    },
    {
      "cell_type": "code",
      "execution_count": 3,
      "metadata": {
        "id": "OiAPtKHvok-6",
        "outputId": "060f6c41-b4f6-48c7-d5a5-a2d42bddde97",
        "colab": {
          "base_uri": "https://localhost:8080/",
          "height": 52
        }
      },
      "outputs": [
        {
          "name": "stdout",
          "output_type": "stream",
          "text": [
            "Masukkan Key : sony\n"
          ]
        },
        {
          "output_type": "execute_result",
          "data": {
            "text/plain": [
              "'sony'"
            ],
            "application/vnd.google.colaboratory.intrinsic+json": {
              "type": "string"
            }
          },
          "metadata": {},
          "execution_count": 3
        }
      ],
      "source": [
        "key = input(\"Masukkan Key : \") # Input key\n",
        "key = key.lower() # Mengubah key agar menjadi huruf kecil\n",
        "key = key.replace(\" \", \"\") # Menghapus spasi pada kunci\n",
        "key # Menampilkan key inputan user"
      ]
    },
    {
      "cell_type": "markdown",
      "source": [
        "Pada kode diatas pengguna diminta untuk menginput kunci melalui perintah input. kunci diubah menjadi huruf kecil dan dilakukan penghapusan spasi. Hasilnya adalah kunci yang telah dinormalisasi."
      ],
      "metadata": {
        "id": "L1YR2nu2V9zH"
      }
    },
    {
      "cell_type": "code",
      "execution_count": 4,
      "metadata": {
        "id": "1uGBS3PRok-6",
        "colab": {
          "base_uri": "https://localhost:8080/",
          "height": 35
        },
        "outputId": "f2bc3c6a-daa5-4260-ed0a-2eb3bca57033"
      },
      "outputs": [
        {
          "output_type": "execute_result",
          "data": {
            "text/plain": [
              "'sonysonysonys'"
            ],
            "application/vnd.google.colaboratory.intrinsic+json": {
              "type": "string"
            }
          },
          "metadata": {},
          "execution_count": 4
        }
      ],
      "source": [
        "# VALIDASI INPUT USER\n",
        "if not plainText: # Validasi inputan jika plaintext kosong\n",
        "    print(\"PlainText Kosong !\")\n",
        "elif not key: # Validasi inputan jika kunci kosong\n",
        "    print(\"Key Kosong !\")\n",
        "else: # Jika plaintext dan kunci tidak kosong\n",
        "    generated_key = \"\"\n",
        "\n",
        "    for i in range(len(plainText)): # Menggunakan loop for untuk mengiterasi melalui setiap karakter dalam plainText.\n",
        "        generated_key += key[i % len(key)] # Menggunakan operator modulus (%) untuk memastikan bahwa indeks yang digunakan untuk mengakses karakter di dalam key tidak melebihi panjang key.\n",
        "\n",
        "generated_key  # Ini membentuk generated_key dengan mengulangi karakter-karakter dari key sesuai dengan panjang plainText.\n"
      ]
    },
    {
      "cell_type": "markdown",
      "source": [
        "Jadi kode ini memastikan bahwa plainText dan key agar tidak kosong, dan jika kondisi tersebut terpenuhi, maka generated_key dibuat berdasarkan panjang plainText dengan menggunakan karakter-karakter dari key.\n",
        "\n",
        "Lalu membuat variabel generated_key kosong. Selama iterasi dengan menggunakan loop for, kode akan mengisi generated_key dengan karakter dari kunci (key) sesuai dengan indeks modulo panjang kunci (len(key)) dalam loop yang akan berjalan sebanyak panjang teks biasa (len(plainText)). Hasilnya adalah kunci yang telah dihasilkan sesuai dengan panjang plainText."
      ],
      "metadata": {
        "id": "DtTy3iP8WFGb"
      }
    },
    {
      "cell_type": "code",
      "execution_count": 5,
      "metadata": {
        "id": "qCA5sSP7ok-7",
        "outputId": "cbd476ba-4f59-4830-ca90-8e6d77bbda29",
        "colab": {
          "base_uri": "https://localhost:8080/"
        }
      },
      "outputs": [
        {
          "output_type": "execute_result",
          "data": {
            "text/plain": [
              "[19, 7, 8, 18, 15, 11, 0, 8, 13, 19, 4, 23, 19]"
            ]
          },
          "metadata": {},
          "execution_count": 5
        }
      ],
      "source": [
        "# Generalisasi plainteks\n",
        "pt = [] # Array kosong dijadikan sebagai wadah untuk menampung data tiap iterasi\n",
        "\n",
        "for i in range(len(plainText)): # Menggunakan loop for untuk mengiterasi melalui setiap karakter dalam plainText.\n",
        "    pt.append(array_alphabet.index(plainText[i])) # Memasukan index alphabet plaintext ke pt\n",
        "pt # Menampilkan hasil dari iterasi tiap index alphabet plaintext"
      ]
    },
    {
      "cell_type": "markdown",
      "source": [
        "Kode di atas membentuk sebuah list baru yang disebut pt melalui sebuah iterasi. Dalam setiap langkah iterasi, indeks dari masing-masing karakter dalam teks biasa (plainText) diambil dari list array_alphabet menggunakan fungsi index(). Sebagai hasilnya, list pt akan berisi indeks yang sesuai dengan urutan alfabet untuk setiap karakter dalam plaintext."
      ],
      "metadata": {
        "id": "bWtqkyMKWLoS"
      }
    },
    {
      "cell_type": "code",
      "execution_count": 6,
      "metadata": {
        "id": "Px5SKamzok-7",
        "outputId": "405070a0-a66a-4d29-c26e-253e1b28caae",
        "colab": {
          "base_uri": "https://localhost:8080/"
        }
      },
      "outputs": [
        {
          "output_type": "execute_result",
          "data": {
            "text/plain": [
              "[18, 14, 13, 24, 18, 14, 13, 24, 18, 14, 13, 24, 18]"
            ]
          },
          "metadata": {},
          "execution_count": 6
        }
      ],
      "source": [
        "# Generalisasi key\n",
        "ky = [] # Array kosong dijadikan sebagai wadah untuk menampung data tiap iterasi\n",
        "\n",
        "for i in range(len(generated_key)): # Looping menggunakan panjang karakter generated_key\n",
        "    ky.append(array_alphabet.index(generated_key[i])) # Memasukan index alphabet generated_key ke ky\n",
        "ky # Menampilkan hasil dari iterasi tiap index alphabet generated_key"
      ]
    },
    {
      "cell_type": "markdown",
      "source": [
        "Kode tersebut membentuk sebuah list baru bernama ky melalui sebuah iterasi. Pada setiap langkah iterasi, indeks dari setiap karakter dalam kunci yang telah dihasilkan (generated_key) diambil dari list array_alphabet menggunakan fungsi index(). Akibatnya, list ky akan berisi indeks yang sesuai dengan urutan alfabet untuk masing-masing karakter dalam kunci."
      ],
      "metadata": {
        "id": "GXH6iH7_WTEt"
      }
    },
    {
      "cell_type": "markdown",
      "metadata": {
        "id": "apJI_ZpEok-8"
      },
      "source": [
        "**ENCRYPT TEXT**"
      ]
    },
    {
      "cell_type": "code",
      "execution_count": 7,
      "metadata": {
        "id": "0oRG67ejok-8",
        "outputId": "dea266e7-f04c-4158-9a99-00120f702366",
        "colab": {
          "base_uri": "https://localhost:8080/"
        }
      },
      "outputs": [
        {
          "output_type": "execute_result",
          "data": {
            "text/plain": [
              "[11, 21, 21, 16, 7, 25, 13, 6, 5, 7, 17, 21, 11]"
            ]
          },
          "metadata": {},
          "execution_count": 7
        }
      ],
      "source": [
        "cipher_index = [] # array kosong dijadikan sebagai wadah untuk menampung data tiap iterasi\n",
        "\n",
        "for i in range(len(plainText)): # Looping menggunakan panjang karakter plaintext\n",
        "    cipher_index.append((pt[i] + ky[i]) % 26) # ITERASI untuk kecocokan setiap elemen\n",
        "cipher_index # Menampilkan hasil cipher_index"
      ]
    },
    {
      "cell_type": "markdown",
      "source": [
        "Kode tersebut membentuk sebuah list baru yang disebut cipher_index melalui iterasi. Pada setiap iterasi, indeks dari karakter dalam teks biasa yang sudah dinormalisasi (pt) ditambahkan dengan indeks yang sesuai dari kunci (ky). Hasil penjumlahan tersebut kemudian diambil modulus 26, sehingga jika nilai yang dihasilkan melebihi 25, akan dipangkas sehingga tetap berada dalam rentang 0 hingga 25. Sebagai hasilnya, list cipher_index berisi indeks-indeks yang merepresentasikan teks terenkripsi.\n"
      ],
      "metadata": {
        "id": "1csxqX71WYBv"
      }
    },
    {
      "cell_type": "code",
      "execution_count": 8,
      "metadata": {
        "id": "gm1tz02qok-9",
        "outputId": "6f9b4a49-8730-4bc7-972f-bb01451fc4ad",
        "colab": {
          "base_uri": "https://localhost:8080/"
        }
      },
      "outputs": [
        {
          "output_type": "execute_result",
          "data": {
            "text/plain": [
              "['l', 'v', 'v', 'q', 'h', 'z', 'n', 'g', 'f', 'h', 'r', 'v', 'l']"
            ]
          },
          "metadata": {},
          "execution_count": 8
        }
      ],
      "source": [
        "cipherText = [] # array kosong dijadikan sebagai wadah untuk menampung data tiap iterasi\n",
        "for i in range(len(plainText)): #Menggunakan loop for untuk mengiterasi melalui setiap karakter dalam plainText.\n",
        "    cipherText.append(array_alphabet[cipher_index[i]]) #Memasukkan karakter terenkripsi ke dalam list cipherText. Nilai cipher_index[i] digunakan sebagai indeks untuk mengakses huruf yang sesuai dalam array_alphabet.\n",
        "cipherText # Menampilkan hasil cipherText"
      ]
    },
    {
      "cell_type": "markdown",
      "source": [
        "Kode di atas membuat list baru yang disebut cipherText melalui iterasi. Pada setiap langkah iterasi, karakter terenkripsi diambil dari list array_alphabet dengan menggunakan indeks yang diperoleh dari list cipher_index. Artinya, setiap karakter dalam teks terenkripsi dihasilkan dengan menggantikan karakter asli yang berada pada posisi yang sama dalam alfabet. Sebagai hasilnya, list cipherText berisi teks yang telah dienkripsi."
      ],
      "metadata": {
        "id": "fx3u8uORWf4r"
      }
    },
    {
      "cell_type": "code",
      "execution_count": 9,
      "metadata": {
        "id": "tYM6nYnIok--",
        "outputId": "22bc0f31-47a2-443b-82b4-9b7ae6faf8e8",
        "colab": {
          "base_uri": "https://localhost:8080/",
          "height": 35
        }
      },
      "outputs": [
        {
          "output_type": "execute_result",
          "data": {
            "text/plain": [
              "'LVVQHZNGFHRVL'"
            ],
            "application/vnd.google.colaboratory.intrinsic+json": {
              "type": "string"
            }
          },
          "metadata": {},
          "execution_count": 9
        }
      ],
      "source": [
        "cipherText = \"\".join(cipherText).upper() # Penggabungan karakter - karakter dalam list menjadi huruf kapital\n",
        "cipherText # Menampilkan hasil cipherText"
      ]
    },
    {
      "cell_type": "markdown",
      "source": [
        "Kode tersebut menggabungkan karakter-karakter terenkripsi dari list cipherText menjadi sebuah string tunggal menggunakan metode join(). Setelah itu, seluruh huruf dalam teks terenkripsi diubah menjadi huruf besar melalui metode upper(). Dengan demikian, hasil akhirnya adalah sebuah string yang mencerminkan teks terenkripsi, dan semua hurufnya ditampilkan dalam format huruf besar."
      ],
      "metadata": {
        "id": "koe9jqmuWkY3"
      }
    },
    {
      "cell_type": "markdown",
      "metadata": {
        "id": "nzzWH274ok--"
      },
      "source": [
        "**DECRYPT TEXT**"
      ]
    },
    {
      "cell_type": "code",
      "execution_count": 10,
      "metadata": {
        "id": "A7RKA7CBok-_",
        "outputId": "2266d000-8b07-44fd-bd5f-91f75185077b",
        "colab": {
          "base_uri": "https://localhost:8080/"
        }
      },
      "outputs": [
        {
          "output_type": "execute_result",
          "data": {
            "text/plain": [
              "[19, 7, 8, 18, 15, 11, 0, 8, 13, 19, 4, 23, 19]"
            ]
          },
          "metadata": {},
          "execution_count": 10
        }
      ],
      "source": [
        "decrypt_index = [] # Array kosong dijadikan sebagai wadah untuk menampung data tiap iterasi\n",
        "\n",
        "for i in range(len(cipher_index)): # Iterasi data panjang cipher_index\n",
        "    decrypt_index.append((cipher_index[i] - ky[i]) % 26) # Iterasi untuk mengembalikan elemen\n",
        "decrypt_index # Menampilkan hasil decrypt_index"
      ]
    },
    {
      "cell_type": "markdown",
      "source": [
        "Kode ini bertujuan untuk menghasilkan indeks-indeks yang diperlukan untuk mendekripsi suatu teks. Langkah-langkahnya melibatkan penghitungan indeks hasil dekripsi berdasarkan cipher_index dan ky.\n",
        "saat mendekripsi teks, operasi modulo diterapkan pada setiap hasil pengurangan antara indeks enkripsi dan indeks kunci. Tujuannya adalah agar hasil tersebut tetap berada dalam rentang 0 hingga 25, yang sesuai dengan panjang alfabet. Dengan kata lain, operasi modulo membantu mengonversi hasil pengurangan ke dalam indeks yang dapat diinterpretasikan sebagai karakter dalam alfabet saat proses dekripsi.\n",
        "Hasil indeks tersebut disimpan dalam list decrypt_index, kode ini mengembalikan indeks-indeks yang digunakan untuk mendekripsi berdasarkan indeks-indeks yang telah dienkripsi dan kunci yang digunakan pada proses enkripsi.\n",
        "\n",
        "\n",
        "\n",
        "\n"
      ],
      "metadata": {
        "id": "le5sOXtgYSe9"
      }
    },
    {
      "cell_type": "code",
      "execution_count": 11,
      "metadata": {
        "id": "hLQSUFWCok-_",
        "outputId": "ab4820ba-19ba-47a1-9ad7-075ce82e7cd4",
        "colab": {
          "base_uri": "https://localhost:8080/"
        }
      },
      "outputs": [
        {
          "output_type": "execute_result",
          "data": {
            "text/plain": [
              "['t', 'h', 'i', 's', 'p', 'l', 'a', 'i', 'n', 't', 'e', 'x', 't']"
            ]
          },
          "metadata": {},
          "execution_count": 11
        }
      ],
      "source": [
        "decryptText = [] # Array kosong dijadikan sebagai wadah untuk menampung data tiap iterasi\n",
        "\n",
        "for i in range(len(decrypt_index)): # Iterasi data panjang decrypt_index\n",
        "    decryptText.append(array_alphabet[decrypt_index[i]]) # Iterasi melalui setiap elemen (indeks) dari decrypt_index untuk mencari posisi dari sebuah alfabet\n",
        "decryptText # Menampilkan hasil decryptText"
      ]
    },
    {
      "cell_type": "markdown",
      "source": [
        "Kode ini berfungsi untuk mendekripsi teks berdasarkan indeks-indeks yang disimpan dalam list decrypt_index. Proses dekripsi melibatkan pengambilan setiap indeks dari decrypt_index dan menggantinya dengan karakter yang sesuai dari list alfabet (array_alphabet). Hasil dekripsi kemudian disimpan dalam list decryptText. Setelah loop selesai, list decryptText akan berisi karakter-karakter hasil dekripsi."
      ],
      "metadata": {
        "id": "IFhR6SJwYvLZ"
      }
    },
    {
      "cell_type": "code",
      "execution_count": 12,
      "metadata": {
        "id": "oPMoj5-rok_A",
        "outputId": "185ad0fe-0321-4337-ac85-f16e004dc2c3",
        "colab": {
          "base_uri": "https://localhost:8080/",
          "height": 35
        }
      },
      "outputs": [
        {
          "output_type": "execute_result",
          "data": {
            "text/plain": [
              "'THISPLAINTEXT'"
            ],
            "application/vnd.google.colaboratory.intrinsic+json": {
              "type": "string"
            }
          },
          "metadata": {},
          "execution_count": 12
        }
      ],
      "source": [
        "result = \"\".join(decryptText).upper() # Menggabungkan tiap elemen array dari decryptText dan membuat tiap karakter tersebut menjadi uppercase\n",
        "result # Menampilkan hasil"
      ]
    },
    {
      "cell_type": "markdown",
      "source": [
        "Kode ini bertujuan untuk menghasilkan hasil dekripsi dari sebuah teks. Langkah-langkahnya melibatkan penggabungan karakter-karakter hasil dekripsi yang disimpan dalam list decryptText, kemudian mengonversi hasilnya menjadi huruf kapital. Hasil dekripsi tersebut akhirnya disimpan dalam variabel result dan ditampilkan."
      ],
      "metadata": {
        "id": "Fm5SGFtgZI8Z"
      }
    },
    {
      "cell_type": "code",
      "source": [
        "# Memisahkan kata-kata berdasarkan huruf kapital\n",
        "words = [] # array kosong dijadikan sebagai wadah untuk menampung data tiap iterasi\n",
        "current_word = '' # Membuat string kosong untuk menyimpan kata saat ini\n",
        "for char in result: # Melakukan iterasi pada setiap karakter dalam variabel result\n",
        "    if char.isupper() and current_word: # Jika karakter adalah huruf kapital dan current_word tidak kosong\n",
        "        words.append(current_word) # tambahkan current_word ke dalam array words\n",
        "        current_word = char # Mulai kata baru dengan huruf kapital yang ditemukan\n",
        "    else:\n",
        "        current_word += char # Jika tidak memenuhi kondisi pertama, tambahkan karakter tersebut ke dalam current_word\n",
        "if current_word:\n",
        "    words.append(current_word) # Menambahkan kata terakhir ke dalam array words jika masih ada kata yang tersisa dalam current_word\n",
        "words # Menampilkan value words"
      ],
      "metadata": {
        "id": "iOZGtWVu25nA"
      },
      "execution_count": 13,
      "outputs": []
    },
    {
      "cell_type": "code",
      "source": [
        "# Menggabungkan karakter menjadi kalimat dengan spasi\n",
        "decrypted_text_with_spaces = ' '.join(words)\n",
        "decrypted_text_with_spaces"
      ],
      "metadata": {
        "colab": {
          "base_uri": "https://localhost:8080/",
          "height": 35
        },
        "id": "DczYsuNh296S",
        "outputId": "bb9f9a4e-a427-4a28-c3bd-e8c5437a423f"
      },
      "execution_count": 14,
      "outputs": [
        {
          "output_type": "execute_result",
          "data": {
            "text/plain": [
              "'T H I S P L A I N T E X T'"
            ],
            "application/vnd.google.colaboratory.intrinsic+json": {
              "type": "string"
            }
          },
          "metadata": {},
          "execution_count": 14
        }
      ]
    }
  ],
  "metadata": {
    "kernelspec": {
      "display_name": "Python 3",
      "language": "python",
      "name": "python3"
    },
    "language_info": {
      "codemirror_mode": {
        "name": "ipython",
        "version": 3
      },
      "file_extension": ".py",
      "mimetype": "text/x-python",
      "name": "python",
      "nbconvert_exporter": "python",
      "pygments_lexer": "ipython3",
      "version": "3.11.6"
    },
    "orig_nbformat": 4,
    "colab": {
      "provenance": [],
      "include_colab_link": true
    }
  },
  "nbformat": 4,
  "nbformat_minor": 0
}